{
 "cells": [
  {
   "cell_type": "markdown",
   "id": "4cfec92e-701f-4867-b8b7-dc67c8e167fd",
   "metadata": {},
   "source": [
    "#Solution of Qs.1"
   ]
  },
  {
   "cell_type": "markdown",
   "id": "7c752a6b-b743-4c34-ab24-1553594968ff",
   "metadata": {},
   "source": [
    "The def keyword is used to create a function ."
   ]
  },
  {
   "cell_type": "code",
   "execution_count": 7,
   "id": "45e65f43-3520-4538-9d35-7d7c4f9c73c5",
   "metadata": {},
   "outputs": [
    {
     "name": "stdin",
     "output_type": "stream",
     "text": [
      "enter the lower limit for the range: 1\n",
      "enter the upper limit for the range: 25\n"
     ]
    },
    {
     "name": "stdout",
     "output_type": "stream",
     "text": [
      "1\n",
      "3\n",
      "5\n",
      "7\n",
      "9\n",
      "11\n",
      "13\n",
      "15\n",
      "17\n",
      "19\n",
      "21\n",
      "23\n",
      "25\n"
     ]
    }
   ],
   "source": [
    "lower = int(input(\"enter the lower limit for the range:\"))\n",
    "upper = int(input(\"enter the upper limit for the range:\"))\n",
    "for i in range (lower , upper+1):\n",
    "    if(i%2!=0):\n",
    "        print(i)\n",
    "        "
   ]
  },
  {
   "cell_type": "markdown",
   "id": "43af3623-e576-4061-8207-e0309621ca03",
   "metadata": {},
   "source": [
    "#Solution of Qs.2"
   ]
  },
  {
   "cell_type": "markdown",
   "id": "c848ee11-b4a5-4c61-a992-1978caca0929",
   "metadata": {},
   "source": [
    "You can use *args and *kwargs as arguments of a function when you are unsure about the number of arguments to pass in the functions."
   ]
  },
  {
   "cell_type": "code",
   "execution_count": 8,
   "id": "9eba8c88-25db-4c01-9381-75c63ebafc02",
   "metadata": {},
   "outputs": [],
   "source": [
    "def test1(*args,a):\n",
    "    return *args,a"
   ]
  },
  {
   "cell_type": "code",
   "execution_count": 9,
   "id": "a6094747-dcce-4c86-8ed2-2087db45650f",
   "metadata": {},
   "outputs": [
    {
     "data": {
      "text/plain": [
       "(1, 2, 3, 2.5)"
      ]
     },
     "execution_count": 9,
     "metadata": {},
     "output_type": "execute_result"
    }
   ],
   "source": [
    "test1(1,2,3,a=2.5)"
   ]
  },
  {
   "cell_type": "code",
   "execution_count": 10,
   "id": "c8f0daa1-b540-441a-b841-51527fcd0d15",
   "metadata": {},
   "outputs": [],
   "source": [
    "def test2(**kwargs):\n",
    "    return kwargs"
   ]
  },
  {
   "cell_type": "code",
   "execution_count": 11,
   "id": "5ebea3df-69ac-4c24-8879-571a25054dd3",
   "metadata": {},
   "outputs": [
    {
     "data": {
      "text/plain": [
       "{'a': 2.5, 'b': [1, 2, 4, 5], 'c': 'himanshu'}"
      ]
     },
     "execution_count": 11,
     "metadata": {},
     "output_type": "execute_result"
    }
   ],
   "source": [
    "test2(a= 2.5,b=[1,2,4,5],c=\"himanshu\")"
   ]
  },
  {
   "cell_type": "markdown",
   "id": "654d2f63-21b3-4392-bd62-14cf76b19e4a",
   "metadata": {},
   "source": [
    "#Solution of Qs.3"
   ]
  },
  {
   "cell_type": "markdown",
   "id": "57168278-e516-42d5-b9d1-965b434456a6",
   "metadata": {},
   "source": [
    "Iterator in Python is an object that is used to iterate over iterable objects like lists,tuples, dicts,and sets.\n",
    "The iterator object is intialized using the iter() method .It uses the next() method for iteration."
   ]
  },
  {
   "cell_type": "code",
   "execution_count": 1,
   "id": "15546207-fc72-4c0d-9b19-038a3f221b77",
   "metadata": {},
   "outputs": [
    {
     "name": "stdout",
     "output_type": "stream",
     "text": [
      "2\n",
      "4\n",
      "6\n",
      "8\n",
      "10\n"
     ]
    }
   ],
   "source": [
    "nums = [2,4,6,8,10,12,14,16,18,20]\n",
    "iter = iter(nums)\n",
    "print(iter.__next__())\n",
    "print(iter.__next__())\n",
    "print(iter.__next__())\n",
    "print(iter.__next__())\n",
    "print(iter.__next__())"
   ]
  },
  {
   "cell_type": "markdown",
   "id": "7fa22f72-01fb-43e8-a858-7825a0dec202",
   "metadata": {},
   "source": [
    "#Solution of Qs.4  "
   ]
  },
  {
   "cell_type": "markdown",
   "id": "92e21bab-458f-4cde-8010-384e7b0b842e",
   "metadata": {},
   "source": [
    "In python, a generator is a function that returns an iterator that produces a sequence of values when iterated over.\n",
    "Genertaor are useful when we wnat to produce a large sequence of values, but we dont want to store all of them in memory at once.\n",
    "If you want to retur multiple values from a function , you can use generator function with yield keywords. The yield expressions return \n",
    "multiple values. They return one value the wait save the local state , and resume again."
   ]
  },
  {
   "cell_type": "code",
   "execution_count": 2,
   "id": "7f664307-7965-4b62-807e-80d6a819175c",
   "metadata": {},
   "outputs": [],
   "source": [
    "def count_test(n):\n",
    "    count = 1\n",
    "    while count < n:\n",
    "        yield count\n",
    "        count = count+1"
   ]
  },
  {
   "cell_type": "code",
   "execution_count": 3,
   "id": "d706f2a2-0466-4f0d-bfc3-674501483c2d",
   "metadata": {},
   "outputs": [],
   "source": [
    "c= count_test(5)"
   ]
  },
  {
   "cell_type": "code",
   "execution_count": 4,
   "id": "60d15dfb-b7e6-429e-aee2-c7d7d21bde98",
   "metadata": {},
   "outputs": [
    {
     "name": "stdout",
     "output_type": "stream",
     "text": [
      "1\n",
      "2\n",
      "3\n",
      "4\n"
     ]
    }
   ],
   "source": [
    "for i in c:\n",
    "    print(i)"
   ]
  },
  {
   "cell_type": "markdown",
   "id": "867e95f1-6e58-4822-95ab-d5363f262a9d",
   "metadata": {},
   "source": [
    "#Solution of Qs.5"
   ]
  },
  {
   "cell_type": "code",
   "execution_count": 5,
   "id": "586ee3a6-7c55-4fa2-a8dc-241f117eacfe",
   "metadata": {},
   "outputs": [],
   "source": [
    "def count_test1(n):\n",
    "    count = 1\n",
    "    while count < n:\n",
    "        yield count\n",
    "        count = count+1"
   ]
  },
  {
   "cell_type": "code",
   "execution_count": 6,
   "id": "f8eea2fb-81c5-4e34-9466-9e512e8f5880",
   "metadata": {},
   "outputs": [],
   "source": [
    "c= count_test1(20)"
   ]
  },
  {
   "cell_type": "code",
   "execution_count": 7,
   "id": "325c8dc4-e7f4-4620-9f2a-66df46534e98",
   "metadata": {},
   "outputs": [
    {
     "data": {
      "text/plain": [
       "1"
      ]
     },
     "execution_count": 7,
     "metadata": {},
     "output_type": "execute_result"
    }
   ],
   "source": [
    "next(c)"
   ]
  },
  {
   "cell_type": "code",
   "execution_count": 9,
   "id": "fe73f3b2-6ed5-415e-b23a-15cc20e33ad2",
   "metadata": {},
   "outputs": [
    {
     "data": {
      "text/plain": [
       "2"
      ]
     },
     "execution_count": 9,
     "metadata": {},
     "output_type": "execute_result"
    }
   ],
   "source": [
    "next(c)"
   ]
  },
  {
   "cell_type": "code",
   "execution_count": 10,
   "id": "9611e84c-02fc-48a3-9c3b-8b70a59d6e50",
   "metadata": {},
   "outputs": [
    {
     "data": {
      "text/plain": [
       "3"
      ]
     },
     "execution_count": 10,
     "metadata": {},
     "output_type": "execute_result"
    }
   ],
   "source": [
    "next(c)"
   ]
  },
  {
   "cell_type": "code",
   "execution_count": 11,
   "id": "91f187af-9b1a-4fd7-b3fd-b3e2164df13c",
   "metadata": {},
   "outputs": [
    {
     "data": {
      "text/plain": [
       "4"
      ]
     },
     "execution_count": 11,
     "metadata": {},
     "output_type": "execute_result"
    }
   ],
   "source": [
    "next(c)"
   ]
  },
  {
   "cell_type": "code",
   "execution_count": 12,
   "id": "a8ecfe13-4778-45fe-aa01-cad3a4674039",
   "metadata": {},
   "outputs": [
    {
     "data": {
      "text/plain": [
       "5"
      ]
     },
     "execution_count": 12,
     "metadata": {},
     "output_type": "execute_result"
    }
   ],
   "source": [
    "next(c)"
   ]
  },
  {
   "cell_type": "code",
   "execution_count": 13,
   "id": "93389fee-1ca0-4f43-bb94-2bf7954d3591",
   "metadata": {},
   "outputs": [
    {
     "data": {
      "text/plain": [
       "6"
      ]
     },
     "execution_count": 13,
     "metadata": {},
     "output_type": "execute_result"
    }
   ],
   "source": [
    "next(c)"
   ]
  },
  {
   "cell_type": "code",
   "execution_count": 14,
   "id": "42bd39ca-3b2f-499c-9e72-2ef6aea1bbbc",
   "metadata": {},
   "outputs": [
    {
     "data": {
      "text/plain": [
       "7"
      ]
     },
     "execution_count": 14,
     "metadata": {},
     "output_type": "execute_result"
    }
   ],
   "source": [
    "next(c)"
   ]
  },
  {
   "cell_type": "code",
   "execution_count": 15,
   "id": "88bd550b-246c-4d68-a9e4-5cbfea21cddf",
   "metadata": {},
   "outputs": [
    {
     "data": {
      "text/plain": [
       "8"
      ]
     },
     "execution_count": 15,
     "metadata": {},
     "output_type": "execute_result"
    }
   ],
   "source": [
    "next(c)"
   ]
  },
  {
   "cell_type": "code",
   "execution_count": 16,
   "id": "d435ea07-f545-4a41-81ca-96de7cbd3db0",
   "metadata": {},
   "outputs": [
    {
     "data": {
      "text/plain": [
       "9"
      ]
     },
     "execution_count": 16,
     "metadata": {},
     "output_type": "execute_result"
    }
   ],
   "source": [
    "next(c)"
   ]
  },
  {
   "cell_type": "code",
   "execution_count": 17,
   "id": "c461dfee-0803-4ff7-a7ae-1b3d4e2d5637",
   "metadata": {},
   "outputs": [
    {
     "data": {
      "text/plain": [
       "10"
      ]
     },
     "execution_count": 17,
     "metadata": {},
     "output_type": "execute_result"
    }
   ],
   "source": [
    "next(c)"
   ]
  },
  {
   "cell_type": "code",
   "execution_count": 18,
   "id": "c02adda8-9cd0-4a8b-a31b-13b5ed324842",
   "metadata": {},
   "outputs": [
    {
     "data": {
      "text/plain": [
       "11"
      ]
     },
     "execution_count": 18,
     "metadata": {},
     "output_type": "execute_result"
    }
   ],
   "source": [
    "next(c)"
   ]
  },
  {
   "cell_type": "code",
   "execution_count": 19,
   "id": "d4da4db7-14b4-40b0-8b01-f045fca61ded",
   "metadata": {},
   "outputs": [
    {
     "data": {
      "text/plain": [
       "12"
      ]
     },
     "execution_count": 19,
     "metadata": {},
     "output_type": "execute_result"
    }
   ],
   "source": [
    "next(c)"
   ]
  },
  {
   "cell_type": "code",
   "execution_count": 20,
   "id": "39e12b0c-52e4-4a24-b895-9fed9b7eea65",
   "metadata": {},
   "outputs": [
    {
     "data": {
      "text/plain": [
       "13"
      ]
     },
     "execution_count": 20,
     "metadata": {},
     "output_type": "execute_result"
    }
   ],
   "source": [
    "next(c)"
   ]
  },
  {
   "cell_type": "code",
   "execution_count": 21,
   "id": "df244fb7-8f5b-454e-b57b-355019340021",
   "metadata": {},
   "outputs": [
    {
     "data": {
      "text/plain": [
       "14"
      ]
     },
     "execution_count": 21,
     "metadata": {},
     "output_type": "execute_result"
    }
   ],
   "source": [
    "next(c)"
   ]
  },
  {
   "cell_type": "code",
   "execution_count": 22,
   "id": "6231e974-20f4-499a-b7c3-530282de8bb0",
   "metadata": {},
   "outputs": [
    {
     "data": {
      "text/plain": [
       "15"
      ]
     },
     "execution_count": 22,
     "metadata": {},
     "output_type": "execute_result"
    }
   ],
   "source": [
    "next(c)"
   ]
  },
  {
   "cell_type": "code",
   "execution_count": 23,
   "id": "13e2b517-3faf-4091-9a48-74fcfd3d919a",
   "metadata": {},
   "outputs": [
    {
     "data": {
      "text/plain": [
       "16"
      ]
     },
     "execution_count": 23,
     "metadata": {},
     "output_type": "execute_result"
    }
   ],
   "source": [
    "next(c)"
   ]
  },
  {
   "cell_type": "code",
   "execution_count": 24,
   "id": "13871193-5c73-4283-bd83-8f238523b1ea",
   "metadata": {},
   "outputs": [
    {
     "data": {
      "text/plain": [
       "17"
      ]
     },
     "execution_count": 24,
     "metadata": {},
     "output_type": "execute_result"
    }
   ],
   "source": [
    "next(c)"
   ]
  },
  {
   "cell_type": "code",
   "execution_count": 25,
   "id": "a406b4b0-d83e-4c75-a143-ab0e5712155b",
   "metadata": {},
   "outputs": [
    {
     "data": {
      "text/plain": [
       "18"
      ]
     },
     "execution_count": 25,
     "metadata": {},
     "output_type": "execute_result"
    }
   ],
   "source": [
    "next(c)"
   ]
  },
  {
   "cell_type": "code",
   "execution_count": 26,
   "id": "1f73c2f5-7634-4baa-b779-e5e32f9a2885",
   "metadata": {},
   "outputs": [
    {
     "data": {
      "text/plain": [
       "19"
      ]
     },
     "execution_count": 26,
     "metadata": {},
     "output_type": "execute_result"
    }
   ],
   "source": [
    "next(c)"
   ]
  },
  {
   "cell_type": "markdown",
   "id": "e4e9b398-9b69-4b94-b610-87f8597dee4f",
   "metadata": {},
   "source": [
    "#solution of Qs.6"
   ]
  },
  {
   "cell_type": "markdown",
   "id": "c1057f01-acb4-4ccb-9287-a37475cb1129",
   "metadata": {},
   "source": [
    "#Fibnonacci series"
   ]
  },
  {
   "cell_type": "code",
   "execution_count": 46,
   "id": "0402ada8-3898-4ca6-9838-016ddcb6dc65",
   "metadata": {},
   "outputs": [
    {
     "name": "stdout",
     "output_type": "stream",
     "text": [
      "0\n",
      "1\n",
      "1\n",
      "2\n",
      "3\n",
      "5\n",
      "8\n",
      "13\n",
      "21\n",
      "34\n"
     ]
    }
   ],
   "source": [
    "a,b = 0 , 1\n",
    "for i in range(10):\n",
    "    print(a)\n",
    "    c = a+ b\n",
    "    a =b\n",
    "    b = c\n",
    "    "
   ]
  },
  {
   "cell_type": "markdown",
   "id": "3fa3e137-3785-4a6a-997a-28843360b60e",
   "metadata": {},
   "source": [
    "#Solution of Qs.8"
   ]
  },
  {
   "cell_type": "code",
   "execution_count": 68,
   "id": "ea5ea772-7bd9-4b1d-ac3e-875675d8ffd1",
   "metadata": {},
   "outputs": [
    {
     "name": "stdin",
     "output_type": "stream",
     "text": [
      "enter number 151\n"
     ]
    },
    {
     "name": "stdout",
     "output_type": "stream",
     "text": [
      "the number is a palindrome\n"
     ]
    }
   ],
   "source": [
    "n= int(input(\"enter number\"))\n",
    "temp = n\n",
    "rev = 0\n",
    "while(n>0):\n",
    "    dig = n%10\n",
    "    rev = (rev*10)+dig\n",
    "    n= n//10\n",
    "if (temp==rev):\n",
    "    print(\"the number is a palindrome\")\n",
    "else:\n",
    "    print(\"the number is not a palindrome\")"
   ]
  },
  {
   "cell_type": "markdown",
   "id": "872e7956-1a03-45b7-aa8d-d049083e12bd",
   "metadata": {},
   "source": [
    "#Solution of Qs.9"
   ]
  },
  {
   "cell_type": "code",
   "execution_count": 72,
   "id": "b086c513-9e22-4ad1-a68c-b8d4df1c11ec",
   "metadata": {},
   "outputs": [
    {
     "name": "stdout",
     "output_type": "stream",
     "text": [
      "Odd numbers from 1-100 are : [1, 3, 5, 7, 9, 11, 13, 15, 17, 19, 21, 23, 25, 27, 29, 31, 33, 35, 37, 39, 41, 43, 45, 47, 49, 51, 53, 55, 57, 59, 61, 63, 65, 67, 69, 71, 73, 75, 77, 79, 81, 83, 85, 87, 89, 91, 93, 95, 97, 99]\n"
     ]
    }
   ],
   "source": [
    "print(\"Odd numbers from 1-100 are :\",[x for x in range(1,100+1,2)])"
   ]
  }
 ],
 "metadata": {
  "kernelspec": {
   "display_name": "Python 3 (ipykernel)",
   "language": "python",
   "name": "python3"
  },
  "language_info": {
   "codemirror_mode": {
    "name": "ipython",
    "version": 3
   },
   "file_extension": ".py",
   "mimetype": "text/x-python",
   "name": "python",
   "nbconvert_exporter": "python",
   "pygments_lexer": "ipython3",
   "version": "3.10.8"
  }
 },
 "nbformat": 4,
 "nbformat_minor": 5
}
